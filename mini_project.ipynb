{
 "cells": [
  {
   "cell_type": "markdown",
   "metadata": {},
   "source": [
    "# Mean Normalization\n",
    "\n",
    "In machine learning we use large amounts of data to train our models. Some machine learning algorithms may require that the data is *normalized* in order to work correctly. The idea of normalization, also known as *feature scaling*, is to ensure that all the data is on a similar scale, *i.e.* that all the data takes on a similar range of values. For example, we might have a dataset that has values between 0 and 5,000. By normalizing the data we can make the range of values be between 0 and 1.\n",
    "\n",
    "In this lab, you will be performing a different kind of feature scaling known as *mean normalization*. Mean normalization will scale the data, but instead of making the values be between 0 and 1, it will distribute the values evenly in some small interval around zero. For example, if we have a dataset that has values between 0 and 5,000, after mean normalization the range of values will be distributed in some small range around 0, for example between -3 to 3. Because the range of values are distributed evenly around zero, this guarantees that the average (mean) of all elements will be zero. Therefore, when you perform *mean normalization* your data will not only be scaled but it will also have an average of zero. \n",
    "\n",
    "# To Do:\n",
    "\n",
    "You will start by importing NumPy and creating a rank 2 ndarray of random integers between 0 and 5,000 (inclusive) with 1000 rows and 20 columns. This array will simulate a dataset with a wide range of values. Fill in the code below"
   ]
  },
  {
   "cell_type": "code",
   "execution_count": 3,
   "metadata": {},
   "outputs": [
    {
     "name": "stdout",
     "output_type": "stream",
     "text": [
      "(1000, 20)\n"
     ]
    }
   ],
   "source": [
    "# import NumPy into Python\n",
    "import numpy as np\n",
    "\n",
    "# Create a 1000 x 20 ndarray with random integers in the half-open interval [0, 5001).\n",
    "X = np.random.randint(0,5001,(1000,20))\n",
    "print(np.shape(X))\n",
    "# print the shape of X\n"
   ]
  },
  {
   "cell_type": "markdown",
   "metadata": {},
   "source": [
    "Now that you created the array we will mean normalize it. We will perform mean normalization using the following equation:\n",
    "\n",
    "$\\mbox{Norm_Col}_i = \\frac{\\mbox{Col}_i - \\mu_i}{\\sigma_i}$\n",
    "\n",
    "where $\\mbox{Col}_i$ is the $i$th column of $X$, $\\mu_i$ is average of the values in the $i$th column of $X$, and $\\sigma_i$ is the standard deviation of the values in the $i$th column of $X$. In other words, mean normalization is performed by subtracting from each column of $X$ the average of its values, and then by dividing by the standard deviation of its values. In the space below, you will first calculate the average and standard deviation of each column of $X$. "
   ]
  },
  {
   "cell_type": "code",
   "execution_count": 5,
   "metadata": {},
   "outputs": [],
   "source": [
    "# Average of the values in each column of X\n",
    "ave_cols = X.mean(axis = 0)\n",
    "\n",
    "# Standard Deviation of the values in each column of X\n",
    "std_cols = X.std(axis = 0)"
   ]
  },
  {
   "cell_type": "markdown",
   "metadata": {},
   "source": [
    "If you have done the above calculations correctly, then `ave_cols` and `std_cols`, should both be vectors with shape `(20,)` since $X$ has 20 columns. You can verify this by filling the code below:"
   ]
  },
  {
   "cell_type": "code",
   "execution_count": 7,
   "metadata": {},
   "outputs": [
    {
     "name": "stdout",
     "output_type": "stream",
     "text": [
      "(20,)\n",
      "(20,)\n"
     ]
    }
   ],
   "source": [
    "# Print the shape of ave_cols\n",
    "print(np.shape(ave_cols))\n",
    "\n",
    "# Print the shape of std_cols\n",
    "print(np.shape(std_cols))"
   ]
  },
  {
   "cell_type": "markdown",
   "metadata": {},
   "source": [
    "You can now take advantage of Broadcasting to calculate the mean normalized version of $X$ in just one line of code using the equation above. Fill in the code below"
   ]
  },
  {
   "cell_type": "code",
   "execution_count": 8,
   "metadata": {},
   "outputs": [],
   "source": [
    "# Mean normalize X\n",
    "X_norm = (X - ave_cols) / std_cols"
   ]
  },
  {
   "cell_type": "markdown",
   "metadata": {},
   "source": [
    "If you have performed the mean normalization correctly, then the average of all the elements in $X_{\\tiny{\\mbox{norm}}}$ should be close to zero, and they should be evenly distributed in some small interval around zero. You can verify this by filing the code below:"
   ]
  },
  {
   "cell_type": "code",
   "execution_count": 12,
   "metadata": {},
   "outputs": [
    {
     "name": "stdout",
     "output_type": "stream",
     "text": [
      "1.7053025658242403e-17\n",
      "-1.7330070721524546\n",
      "1.731904958086195\n"
     ]
    }
   ],
   "source": [
    "# Print the average of all the values of X_norm\n",
    "print(X_norm.mean())\n",
    "\n",
    "# Print the average of the minimum value in each column of X_norm\n",
    "print(X_norm.min(axis = 0).mean())\n",
    "\n",
    "# Print the average of the maximum value in each column of X_norm\n",
    "print(X_norm.max(axis = 0).mean())"
   ]
  },
  {
   "cell_type": "markdown",
   "metadata": {},
   "source": [
    "You should note that since $X$ was created using random integers, the above values will vary. \n",
    "\n",
    "# Data Separation\n",
    "\n",
    "After the data has been mean normalized, it is customary in machine learnig to split our dataset into three sets:\n",
    "\n",
    "1. A Training Set\n",
    "2. A Cross Validation Set\n",
    "3. A Test Set\n",
    "\n",
    "The dataset is usually divided such that the Training Set contains 60% of the data, the Cross Validation Set contains 20% of the data, and the Test Set contains 20% of the data. \n",
    "\n",
    "In this part of the lab you will separate `X_norm` into a Training Set, Cross Validation Set, and a Test Set. Each data set will contain rows of `X_norm` chosen at random, making sure that we don't pick the same row twice. This will guarantee that all the rows of `X_norm` are chosen and randomly distributed among the three new sets.\n",
    "\n",
    "You will start by creating a rank 1 ndarray that contains a random permutation of the row indices of `X_norm`. You can do this by using the `np.random.permutation()` function. The `np.random.permutation(N)` function creates a random permutation of integers from 0 to `N - 1`. Let's see an example:"
   ]
  },
  {
   "cell_type": "code",
   "execution_count": 14,
   "metadata": {},
   "outputs": [
    {
     "data": {
      "text/plain": [
       "array([4, 2, 3, 0, 1])"
      ]
     },
     "execution_count": 14,
     "metadata": {},
     "output_type": "execute_result"
    }
   ],
   "source": [
    "# We create a random permutation of integers 0 to 4\n",
    "np.random.permutation(5)"
   ]
  },
  {
   "cell_type": "markdown",
   "metadata": {},
   "source": [
    "# To Do\n",
    "\n",
    "In the space below create a rank 1 ndarray that contains a random permutation of the row indices of `X_norm`. You can do this in one line of code by extracting the number of rows of `X_norm` using the `shape` attribute and then passing it to the  `np.random.permutation()` function. Remember the `shape` attribute returns a tuple with two numbers in the form `(rows,columns)`."
   ]
  },
  {
   "cell_type": "code",
   "execution_count": 24,
   "metadata": {},
   "outputs": [
    {
     "name": "stdout",
     "output_type": "stream",
     "text": [
      "[393 324 576 981 612 357 251 775 277 710 660 201 202 467 980 650 549 954\n",
      " 819 827 521  14 959 605 150 145 826 443 889 406 631 656 382 703 719 416\n",
      " 291 491 489 705 675 328 239 472 553 977  55 770 403 822  49 529 712 868\n",
      "  91 118 651  44  67 557  18 694 749 100 231 142 833 512 644 566 414 532\n",
      " 671 801 726 878 583 849 727 260  95 285 873 969 562  93 592 795 858 952\n",
      " 499 964 286  47 323 670 965 574  57 497 192  37 997 107 802 863  29 452\n",
      "  72 947 501 408  74 482 176  43 636 988 379 129  69 264 551 121 104 938\n",
      " 729 721 572 976 866 493 940 376 459 539 352 122  17 411 243  84 377  68\n",
      " 817  78 404 872 210 781 908 737 137 700 258  61 613 642 144 883 468 626\n",
      "  71 693 292  32  40  36  87 695 580 586 786  33 564 916 261 438 303 742\n",
      " 732 979 338 550 305 511  82 871 269 479 753 730 993 453 717 203 232 747\n",
      " 450 125 821 135 426 166 213 306 718 810 226 531 178 844 648 227 691 677\n",
      " 632 811 704 424 958 437 517 296  41 907 341 204 189 366 455 853 388 111\n",
      " 628 533 601 480 738 754  26   2 505 187 820 951 196 456 115 716 546 772\n",
      " 466 391 297  88 370 259 321 390 942 888 618 102 223 922 812 912 463 748\n",
      " 724 290  27 147 397 680 112 894 623 191  54 113 506 270 861 740 515 599\n",
      " 253 351 415 215 143 402 633 932 295 559 538 731 180 658 190 579 519 440\n",
      " 946 271 961 683 804 807 823 436 429 920 739 831 639 774 294 854 337 934\n",
      " 663 460 284  89 378 157 836 637 544 168 279 606 733 939 470 418 447 696\n",
      "  60 163 101 936 105 336  42 596  94 714 839 373 304 353 771 901 354 383\n",
      " 310 662 425 851 855 132  53 441 902 114 545 364  31 638  34 990 347 288\n",
      " 273 996 842 578 816 860 240 616 474 630 483 841 500 174 625 825  85 998\n",
      " 439 725 302 401 561 208 808 708 929 845 311 312 914 248 355 788 535  50\n",
      " 989 327 141 602 387   5 621 200 654 776 899 911 516 475 743 782 640 791\n",
      " 751 396 181 789 523 508 140 619 828 329 110 673 876 674 967 779 332 446\n",
      " 478 984 963 554 608 262 777 941 188 307 448 857 334 313  59 900 322 715\n",
      " 179 237 944 194 356 392 293 374  58 299 335 315 432 184 875 960 593 728\n",
      "   7 469  45 627 198  62 985 171 607 494 840  30 256 155 540 458  10 711\n",
      " 464 647 420 126 891 773 502 177 975 123 970 527 427 412 643 966 238  81\n",
      " 787 465 759 230 622 169 128 769   8 175 815 684 609 146 690 245 481 923\n",
      " 541 935 741 413 518  64 119 778 567 219 565 333 987 235 214 896 542 211\n",
      " 974 399 909 556 476 487 272 471 462 780 236 496 763   3 316 983 167 265\n",
      " 206 106 149 421 603 495 933 611 604 252 340 257 148 522 435 921 349 386\n",
      " 641 161 371 895 131 552 301 948 746 859 666  56 330 850 320 504 369 886\n",
      " 195 924 910 847 800 973 407  22  63  23 870 400 765 687 928 267 968 837\n",
      "  16  92 652 536 183 617 423 720 814  21 794   9  99 254 904 394 919 676\n",
      " 955 548 707 555 697 528 185 978 762  38 266 681 133 274  90 309 283 925\n",
      " 575 234 913 451  39  77 745 702 991 229 735 793 893 635 360 600 570 699\n",
      " 372 852  97 882 809  19  66 563 848 685 806  86 629 713 646 199  75 887\n",
      " 325 241 597 722 655 843 513 903 492 598 158 634 477 247 589  76 422 930\n",
      " 233 449  70 159 319 620 246 736  13 255 950  24 108 209 835 824 669 945\n",
      " 645 156   4 490 784  20 365 346  96 385 249 792 838  80 543 363 525 120\n",
      " 343 250 590 134 534  65 507 222 661 587 879 834 830 220 905 116 971 972\n",
      " 692 433 225 326 760 124 571 217 706 486 756 457 289 152 454  15  25 927\n",
      " 485 130 205 679 242 657  28 931 846 117 151 805 667  12 994 785 956 752\n",
      " 943 484 197 764 282 962 348 164 701 162 331 268 588 992 665 308 591   1\n",
      " 344 263  48 136  46 709 624 558 862 367 744 170 395 585  51 869 405 723\n",
      " 766 172 649 906 339  83 892 577 688 798 560  11 682 298   0 856 757 165\n",
      " 193 409 953 937 581 498 999 510 672 350 212 207 389 224  79  52 410 359\n",
      " 361 444 750 186 761 153 880 281 287  35 526 917 949 957 689 138 610 524\n",
      " 280 783 915 668 877 127 918 430 368 442 686 995 797 398 384 614 799 431\n",
      " 818 503 417 381 345 897 276 594 461 698 173 509  98 884 829 342 228 314\n",
      " 445 362 318 300 986 678 530 767 734 755 514 434 813 182 874 218 864 881\n",
      " 885 473 758 890 659 584 103 898 790 832 139 573  73 615 803 865 216 380\n",
      " 768 275 520   6 569 419 488 537 160 428 221 653 317 796 926 664 568 358\n",
      " 154 375 244 109 582 547 278 595 982 867]\n"
     ]
    }
   ],
   "source": [
    "# Create a rank 1 ndarray that contains a random permutation of the row indices of `X_norm`\n",
    "row_indices = np.random.permutation(np.shape(X_norm)[0])\n",
    "print(row_indices)"
   ]
  },
  {
   "cell_type": "markdown",
   "metadata": {},
   "source": [
    "Now you can create the three datasets using the `row_indices` ndarray to select the rows that will go into each dataset. Rememeber that the Training Set contains 60% of the data, the Cross Validation Set contains 20% of the data, and the Test Set contains 20% of the data. Each set requires just one line of code to create. Fill in the code below"
   ]
  },
  {
   "cell_type": "code",
   "execution_count": 36,
   "metadata": {},
   "outputs": [
    {
     "name": "stdout",
     "output_type": "stream",
     "text": [
      "(600, 20)\n"
     ]
    }
   ],
   "source": [
    "# Make any necessary calculations.\n",
    "# You can save your calculations into variables to use later.\n",
    "\n",
    "\n",
    "# Create a Training Set\n",
    "X_train = X_norm[row_indices[row_indices<600]]\n",
    "\n",
    "# Create a Cross Validation Set\n",
    "X_crossVal = X_norm[row_indices[(row_indices>=600) & (row_indices<800) ]]\n",
    "\n",
    "# Create a Test Set\n",
    "X_test = X_norm[row_indices[(row_indices>=800) & (row_indices<1000)]]"
   ]
  },
  {
   "cell_type": "markdown",
   "metadata": {},
   "source": [
    "If you performed the above calculations correctly, then `X_tain` should have 600 rows and 20 columns, `X_crossVal` should have 200 rows and 20 columns, and `X_test` should have 200 rows and 20 columns. You can verify this by filling the code below:"
   ]
  },
  {
   "cell_type": "code",
   "execution_count": 37,
   "metadata": {},
   "outputs": [
    {
     "name": "stdout",
     "output_type": "stream",
     "text": [
      "(600, 20)\n",
      "(200, 20)\n",
      "(200, 20)\n"
     ]
    }
   ],
   "source": [
    "# Print the shape of X_train\n",
    "print(np.shape(X_train))\n",
    "\n",
    "# Print the shape of X_crossVal\n",
    "print(np.shape(X_crossVal))\n",
    "\n",
    "# Print the shape of X_test\n",
    "print(np.shape(X_test))"
   ]
  },
  {
   "cell_type": "code",
   "execution_count": null,
   "metadata": {},
   "outputs": [],
   "source": []
  }
 ],
 "metadata": {
  "kernelspec": {
   "display_name": "Python 3",
   "language": "python",
   "name": "python3"
  },
  "language_info": {
   "codemirror_mode": {
    "name": "ipython",
    "version": 3
   },
   "file_extension": ".py",
   "mimetype": "text/x-python",
   "name": "python",
   "nbconvert_exporter": "python",
   "pygments_lexer": "ipython3",
   "version": "3.7.4"
  }
 },
 "nbformat": 4,
 "nbformat_minor": 2
}
